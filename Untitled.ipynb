{
 "cells": [
  {
   "cell_type": "code",
   "execution_count": 42,
   "id": "3e804a7b-887d-4608-8aa7-bcec0d9270b6",
   "metadata": {},
   "outputs": [
    {
     "name": "stdout",
     "output_type": "stream",
     "text": [
      "[0 0 1 1 0 1 1 0 1 1 1 0 1 0 1 1 0 1 1 0 1 1 0 1 1 1 0 1 0 0 1 0 1 1 1 0 1\n",
      " 0 1 1 1 1 1 0 0 1 1 1 1 0 0 0 1 1 1 0 0 1 1 1 0 0 0 1 0 1 1 1 1 1 0 0 1 1\n",
      " 0 1 0 1 0 1 0 1 1 0 1 1 0 1 0 0 0 1 1 0 1 0 1 0 1 1 0 1 0 0 0 1 0 1 1 0 1\n",
      " 1 0 0 1 0 1 0 1 1 1 1 0 1 0 0 0 0 0 0 0 1 1 0 1 0 1 1 0 1 0 0 1 1 1 1 1 0\n",
      " 0 0 0 1 1 0 1 0 0 0 0 1 0 0 1 0 1 1 1 1 0 0 1 1 0 1 0 1 1 1 0 0 1 1 0 1]\n",
      "Model Accuracy: 86.41 %\n"
     ]
    }
   ],
   "source": [
    "import pandas as pd\n",
    "from sklearn.preprocessing import OneHotEncoder\n",
    "from sklearn.preprocessing import MinMaxScaler\n",
    "from sklearn.model_selection import train_test_split\n",
    "from sklearn.linear_model import LogisticRegression\n",
    "from sklearn.metrics import accuracy_score\n",
    "\n",
    "df= pd.read_csv(\"heart.csv\")\n",
    "scaler = MinMaxScaler()\n",
    "model = LogisticRegression()\n",
    "\n",
    "# Encoding binary categorical variables 'Sex' and 'ExerciseAngina'\n",
    "df['Sex']=df['Sex'].map({'M' : 1, 'F' : 0})\n",
    "df['ExerciseAngina']=df['ExerciseAngina'].map({'Y' : 1, 'N' : 0})\n",
    "\n",
    "#One-hot encoding multiclass categorical variables 'ChestPainType', 'RestingECG', 'ST_Slope'\n",
    "df= pd.get_dummies(df, columns=['ChestPainType', 'RestingECG', 'ST_Slope'], drop_first = True)\n",
    "df = df.astype(int)\n",
    "\n",
    "scaled = scaler.fit_transform(df[['Age', 'RestingBP', 'Cholesterol', 'MaxHR', 'Oldpeak']])\n",
    "(df[['Age', 'RestingBP', 'Cholesterol', 'MaxHR', 'Oldpeak']]) = scaled \n",
    "\n",
    "# Splitting features and target\n",
    "X = df.drop('HeartDisease', axis=1)\n",
    "Y = df['HeartDisease']\n",
    "\n",
    "# Splitting dataset into testing/training sets\n",
    "X_train, X_test, y_train, y_test = train_test_split(X, Y, test_size=0.2, random_state=42)\n",
    "\n",
    "# Training logistic regression model\n",
    "model.fit(X_train,y_train)\n",
    "predictions = model.predict(X_test)\n",
    "\n",
    "print(predictions)\n",
    "accuracy = accuracy_score(y_test, predictions)\n",
    "print(\"Model Accuracy:\", round(accuracy * 100, 2), \"%\")\n",
    "\n",
    "\n"
   ]
  },
  {
   "cell_type": "code",
   "execution_count": null,
   "id": "ed86832c-861c-4995-a219-3ad657eca410",
   "metadata": {},
   "outputs": [],
   "source": []
  }
 ],
 "metadata": {
  "kernelspec": {
   "display_name": "Python 3 (ipykernel)",
   "language": "python",
   "name": "python3"
  },
  "language_info": {
   "codemirror_mode": {
    "name": "ipython",
    "version": 3
   },
   "file_extension": ".py",
   "mimetype": "text/x-python",
   "name": "python",
   "nbconvert_exporter": "python",
   "pygments_lexer": "ipython3",
   "version": "3.11.9"
  }
 },
 "nbformat": 4,
 "nbformat_minor": 5
}
